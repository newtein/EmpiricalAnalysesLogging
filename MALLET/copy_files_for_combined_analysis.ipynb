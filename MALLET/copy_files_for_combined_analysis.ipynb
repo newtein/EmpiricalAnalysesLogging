{
 "cells": [
  {
   "cell_type": "code",
   "execution_count": 9,
   "metadata": {},
   "outputs": [],
   "source": [
    "import os\n",
    "import shutil"
   ]
  },
  {
   "cell_type": "code",
   "execution_count": 13,
   "metadata": {},
   "outputs": [],
   "source": [
    "movdirs = [\"AE\",\"SE\",\"SO\",\"DB\",\"SF\",\"SU\"]\n",
    "basedir = r\"Stack\\ALL\""
   ]
  },
  {
   "cell_type": "code",
   "execution_count": 16,
   "metadata": {
    "scrolled": true
   },
   "outputs": [
    {
     "name": "stdout",
     "output_type": "stream",
     "text": [
      "Stack\\AE Stack\\ALL\n",
      "AE_100069.txt  already exists.\n",
      "AE_100285.txt  already exists.\n",
      "AE_102824.txt  already exists.\n",
      "AE_103411.txt  already exists.\n",
      "AE_103746.txt  already exists.\n",
      "AE_104210.txt  already exists.\n",
      "AE_107084.txt  already exists.\n",
      "AE_107210.txt  already exists.\n",
      "AE_108762.txt  already exists.\n",
      "AE_110714.txt  already exists.\n",
      "Stack\\SE Stack\\ALL\n",
      "SE_101114.txt  already exists.\n",
      "SE_104442.txt  already exists.\n",
      "SE_108683.txt  already exists.\n",
      "SE_112402.txt  already exists.\n",
      "SE_116050.txt  already exists.\n",
      "SE_121434.txt  already exists.\n",
      "SE_122746.txt  already exists.\n",
      "SE_123857.txt  already exists.\n",
      "SE_130250.txt  already exists.\n",
      "SE_133538.txt  already exists.\n",
      "Stack\\SO Stack\\ALL\n",
      "SO_10000678.txt  already exists.\n",
      "SO_100007.txt  already exists.\n",
      "SO_10002289.txt  already exists.\n",
      "SO_10004078.txt  already exists.\n",
      "SO_10005225.txt  already exists.\n",
      "SO_10005509.txt  already exists.\n",
      "SO_10006017.txt  already exists.\n",
      "SO_10006619.txt  already exists.\n",
      "SO_10007132.txt  already exists.\n",
      "SO_10007553.txt  already exists.\n",
      "Stack\\DB Stack\\ALL\n",
      "DB_100525.txt  already exists.\n",
      "DB_100529.txt  already exists.\n",
      "DB_10062.txt  already exists.\n",
      "DB_100718.txt  already exists.\n",
      "DB_100807.txt  already exists.\n",
      "DB_100827.txt  already exists.\n",
      "DB_100863.txt  already exists.\n",
      "DB_100892.txt  already exists.\n",
      "DB_100894.txt  already exists.\n",
      "DB_101119.txt  already exists.\n",
      "Stack\\SF Stack\\ALL\n",
      "SF_100020.txt  already exists.\n",
      "SF_100164.txt  already exists.\n",
      "SF_100187.txt  already exists.\n",
      "SF_100772.txt  already exists.\n",
      "SF_101028.txt  already exists.\n",
      "SF_101395.txt  already exists.\n",
      "SF_10165.txt  already exists.\n",
      "SF_101744.txt  already exists.\n",
      "SF_102030.txt  already exists.\n",
      "SF_102072.txt  already exists.\n",
      "Stack\\SU Stack\\ALL\n",
      "SU_1000177.txt  already exists.\n",
      "SU_1000529.txt  already exists.\n",
      "SU_1002363.txt  already exists.\n",
      "SU_1002856.txt  already exists.\n",
      "SU_1003362.txt  already exists.\n",
      "SU_100352.txt  already exists.\n",
      "SU_1003997.txt  already exists.\n",
      "SU_1005579.txt  already exists.\n",
      "SU_1006804.txt  already exists.\n",
      "SU_1007674.txt  already exists.\n"
     ]
    }
   ],
   "source": [
    "\n",
    "# Walk through all files in the directory that contains the files to copy\n",
    "for movdir in movdirs:\n",
    "    website = movdir\n",
    "    movdir = r\"Stack\\{}\".format(movdir)\n",
    "    print(movdir, basedir)\n",
    "    for root, dirs, files in os.walk(movdir):\n",
    "        for filename in files:\n",
    "            old_name = os.path.join( os.path.abspath(root), filename )\n",
    "            new_file_name = \"{}_{}\".format(website,filename)\n",
    "            new_name = os.path.join( basedir, new_file_name )\n",
    "            if not os.path.exists(new_name):  # folder exists, file does not\n",
    "                shutil.copy(old_name, new_name)\n",
    "                \n",
    "            else:  # folder exists, file exists as well\n",
    "                print(new_file_name, \" already exists.\")"
   ]
  },
  {
   "cell_type": "code",
   "execution_count": null,
   "metadata": {},
   "outputs": [],
   "source": []
  }
 ],
 "metadata": {
  "kernelspec": {
   "display_name": "Python 3",
   "language": "python",
   "name": "python3"
  },
  "language_info": {
   "codemirror_mode": {
    "name": "ipython",
    "version": 3
   },
   "file_extension": ".py",
   "mimetype": "text/x-python",
   "name": "python",
   "nbconvert_exporter": "python",
   "pygments_lexer": "ipython3",
   "version": "3.6.3"
  }
 },
 "nbformat": 4,
 "nbformat_minor": 2
}
